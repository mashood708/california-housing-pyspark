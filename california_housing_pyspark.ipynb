{
  "nbformat": 4,
  "nbformat_minor": 0,
  "metadata": {
    "colab": {
      "provenance": []
    },
    "kernelspec": {
      "name": "python3",
      "display_name": "Python 3"
    },
    "language_info": {
      "name": "python"
    }
  },
  "cells": [
    {
      "cell_type": "code",
      "execution_count": 3,
      "metadata": {
        "id": "RGTIxz81WUG2"
      },
      "outputs": [],
      "source": [
        "from pyspark.sql import SparkSession\n",
        "\n",
        "spark = SparkSession.builder.appName(\"CSV Reader\").getOrCreate()\n"
      ]
    },
    {
      "cell_type": "code",
      "source": [
        "\n",
        "df = spark.read.option(\"header\", True).csv(\"/content/sample_data/california_housing_train.csv\")\n",
        "df.show(5)\n",
        "\n"
      ],
      "metadata": {
        "colab": {
          "base_uri": "https://localhost:8080/"
        },
        "id": "VuDzMdMyWyng",
        "outputId": "61b908ad-a02d-4281-f434-af1d71456fad"
      },
      "execution_count": 5,
      "outputs": [
        {
          "output_type": "stream",
          "name": "stdout",
          "text": [
            "+-----------+---------+------------------+-----------+--------------+-----------+----------+-------------+------------------+\n",
            "|  longitude| latitude|housing_median_age|total_rooms|total_bedrooms| population|households|median_income|median_house_value|\n",
            "+-----------+---------+------------------+-----------+--------------+-----------+----------+-------------+------------------+\n",
            "|-114.310000|34.190000|         15.000000|5612.000000|   1283.000000|1015.000000|472.000000|     1.493600|      66900.000000|\n",
            "|-114.470000|34.400000|         19.000000|7650.000000|   1901.000000|1129.000000|463.000000|     1.820000|      80100.000000|\n",
            "|-114.560000|33.690000|         17.000000| 720.000000|    174.000000| 333.000000|117.000000|     1.650900|      85700.000000|\n",
            "|-114.570000|33.640000|         14.000000|1501.000000|    337.000000| 515.000000|226.000000|     3.191700|      73400.000000|\n",
            "|-114.570000|33.570000|         20.000000|1454.000000|    326.000000| 624.000000|262.000000|     1.925000|      65500.000000|\n",
            "+-----------+---------+------------------+-----------+--------------+-----------+----------+-------------+------------------+\n",
            "only showing top 5 rows\n",
            "\n"
          ]
        }
      ]
    },
    {
      "cell_type": "code",
      "source": [
        "df.schema"
      ],
      "metadata": {
        "colab": {
          "base_uri": "https://localhost:8080/"
        },
        "id": "P-4CK00sXVO1",
        "outputId": "2f410816-a4dd-419d-8f9a-c3af841db066"
      },
      "execution_count": 9,
      "outputs": [
        {
          "output_type": "execute_result",
          "data": {
            "text/plain": [
              "StructType([StructField('longitude', StringType(), True), StructField('latitude', StringType(), True), StructField('housing_median_age', StringType(), True), StructField('total_rooms', StringType(), True), StructField('total_bedrooms', StringType(), True), StructField('population', StringType(), True), StructField('households', StringType(), True), StructField('median_income', StringType(), True), StructField('median_house_value', StringType(), True)])"
            ]
          },
          "metadata": {},
          "execution_count": 9
        }
      ]
    },
    {
      "cell_type": "code",
      "source": [
        "df.columns                 # list columns\n"
      ],
      "metadata": {
        "colab": {
          "base_uri": "https://localhost:8080/"
        },
        "id": "jJOSO6mqYkU8",
        "outputId": "df1a85ab-9b32-4d85-a1c7-d8bf519fe858"
      },
      "execution_count": 10,
      "outputs": [
        {
          "output_type": "execute_result",
          "data": {
            "text/plain": [
              "['longitude',\n",
              " 'latitude',\n",
              " 'housing_median_age',\n",
              " 'total_rooms',\n",
              " 'total_bedrooms',\n",
              " 'population',\n",
              " 'households',\n",
              " 'median_income',\n",
              " 'median_house_value']"
            ]
          },
          "metadata": {},
          "execution_count": 10
        }
      ]
    },
    {
      "cell_type": "code",
      "source": [
        "df.describe().show()       # summary stats\n"
      ],
      "metadata": {
        "colab": {
          "base_uri": "https://localhost:8080/"
        },
        "id": "dowQcZcOYt56",
        "outputId": "4af9d973-fd5f-4658-e9d7-de9d78e782d5"
      },
      "execution_count": 11,
      "outputs": [
        {
          "output_type": "stream",
          "name": "stdout",
          "text": [
            "+-------+-------------------+------------------+------------------+-----------------+-----------------+------------------+-----------------+------------------+------------------+\n",
            "|summary|          longitude|          latitude|housing_median_age|      total_rooms|   total_bedrooms|        population|       households|     median_income|median_house_value|\n",
            "+-------+-------------------+------------------+------------------+-----------------+-----------------+------------------+-----------------+------------------+------------------+\n",
            "|  count|              17000|             17000|             17000|            17000|            17000|             17000|            17000|             17000|             17000|\n",
            "|   mean|-119.56210823529375|  35.6252247058827| 28.58935294117647|2643.664411764706|539.4108235294118|1429.5739411764705|501.2219411764706| 3.883578100000021|207300.91235294117|\n",
            "| stddev| 2.0051664084260357|2.1373397946570867|12.586936981660406|2179.947071452777|421.4994515798648| 1147.852959159527|384.5208408559016|1.9081565183791036|115983.76438720895|\n",
            "|    min|        -114.310000|         32.540000|          1.000000|      1000.000000|         1.000000|        100.000000|         1.000000|          0.499900|     100000.000000|\n",
            "|    max|        -124.350000|         41.950000|          9.000000|      9992.000000|       999.000000|        999.000000|       999.000000|          9.907100|      99900.000000|\n",
            "+-------+-------------------+------------------+------------------+-----------------+-----------------+------------------+-----------------+------------------+------------------+\n",
            "\n"
          ]
        }
      ]
    },
    {
      "cell_type": "code",
      "source": [
        "from pyspark.sql import functions as F\n"
      ],
      "metadata": {
        "id": "H1v0azOKfadt"
      },
      "execution_count": 13,
      "outputs": []
    },
    {
      "cell_type": "markdown",
      "source": [
        "✅ Average house value by median income bracket:\n",
        "\n",
        "\n"
      ],
      "metadata": {
        "id": "xmsSiEKTmWwp"
      }
    },
    {
      "cell_type": "code",
      "source": [
        "df.groupBy(\n",
        "    F.round(\"median_income\", 1).alias(\"income_bracket\")\n",
        ").agg(\n",
        "    F.avg(\"median_house_value\").alias(\"avg_house_value\")\n",
        ").orderBy(\"income_bracket\").show()\n"
      ],
      "metadata": {
        "colab": {
          "base_uri": "https://localhost:8080/"
        },
        "id": "zW_txAdqaig1",
        "outputId": "7c65b200-2623-4221-ea57-7d0a8a6991bd"
      },
      "execution_count": 14,
      "outputs": [
        {
          "output_type": "stream",
          "name": "stdout",
          "text": [
            "+--------------+------------------+\n",
            "|income_bracket|   avg_house_value|\n",
            "+--------------+------------------+\n",
            "|           0.5|144905.55555555556|\n",
            "|           0.6|          111300.0|\n",
            "|           0.7| 158657.2142857143|\n",
            "|           0.8|          137950.0|\n",
            "|           0.9|128138.68181818182|\n",
            "|           1.0|107740.90909090909|\n",
            "|           1.1| 102557.8947368421|\n",
            "|           1.2| 114496.0594059406|\n",
            "|           1.3|          105275.0|\n",
            "|           1.4| 98682.78145695364|\n",
            "|           1.5|108070.85714285714|\n",
            "|           1.6|106120.26293103448|\n",
            "|           1.7|105001.96393442623|\n",
            "|           1.8|108815.83397683398|\n",
            "|           1.9|115284.70068027212|\n",
            "|           2.0|122114.09668508287|\n",
            "|           2.1|126340.62215909091|\n",
            "|           2.2|126268.87871853547|\n",
            "|           2.3| 135354.3523573201|\n",
            "|           2.4| 136875.4770889488|\n",
            "+--------------+------------------+\n",
            "only showing top 20 rows\n",
            "\n"
          ]
        }
      ]
    },
    {
      "cell_type": "code",
      "source": [
        "df.orderBy(df[\"population\"].desc()).select(\n",
        "    \"longitude\", \"latitude\", \"population\", \"median_house_value\"\n",
        ").show(5)\n"
      ],
      "metadata": {
        "colab": {
          "base_uri": "https://localhost:8080/"
        },
        "id": "aHZgxLsGfm-m",
        "outputId": "a951ec19-d9cf-49a6-9023-c056a26d21fb"
      },
      "execution_count": 15,
      "outputs": [
        {
          "output_type": "stream",
          "name": "stdout",
          "text": [
            "+-----------+---------+----------+------------------+\n",
            "|  longitude| latitude|population|median_house_value|\n",
            "+-----------+---------+----------+------------------+\n",
            "|-120.000000|38.930000|999.000000|     313400.000000|\n",
            "|-121.210000|37.810000|999.000000|     172100.000000|\n",
            "|-120.420000|38.420000|999.000000|      91900.000000|\n",
            "|-119.790000|36.550000|999.000000|      76800.000000|\n",
            "|-120.430000|34.890000|999.000000|     158000.000000|\n",
            "+-----------+---------+----------+------------------+\n",
            "only showing top 5 rows\n",
            "\n"
          ]
        }
      ]
    },
    {
      "cell_type": "code",
      "source": [
        "✅ Top 5 most populated blocks:\n",
        "\n"
      ],
      "metadata": {
        "id": "vW12fR2wmEkF"
      },
      "execution_count": null,
      "outputs": []
    },
    {
      "cell_type": "code",
      "source": [
        "df.orderBy(df[\"population\"].desc()).select(\n",
        "    \"longitude\", \"latitude\", \"population\", \"median_house_value\"\n",
        ").show(5)\n"
      ],
      "metadata": {
        "colab": {
          "base_uri": "https://localhost:8080/"
        },
        "id": "M39-l4adlmOb",
        "outputId": "ef633d9c-9592-4698-bee7-87d201118f7e"
      },
      "execution_count": 16,
      "outputs": [
        {
          "output_type": "stream",
          "name": "stdout",
          "text": [
            "+-----------+---------+----------+------------------+\n",
            "|  longitude| latitude|population|median_house_value|\n",
            "+-----------+---------+----------+------------------+\n",
            "|-120.000000|38.930000|999.000000|     313400.000000|\n",
            "|-121.210000|37.810000|999.000000|     172100.000000|\n",
            "|-120.420000|38.420000|999.000000|      91900.000000|\n",
            "|-119.790000|36.550000|999.000000|      76800.000000|\n",
            "|-120.430000|34.890000|999.000000|     158000.000000|\n",
            "+-----------+---------+----------+------------------+\n",
            "only showing top 5 rows\n",
            "\n"
          ]
        }
      ]
    },
    {
      "cell_type": "markdown",
      "source": [
        "✅ Filter houses younger than 10 years old with high median income:\n",
        "\n",
        "\n"
      ],
      "metadata": {
        "id": "ob2cFURjl00I"
      }
    },
    {
      "cell_type": "code",
      "source": [
        "df.filter(\n",
        "    (df[\"housing_median_age\"] < 10) & (df[\"median_income\"] > 5)\n",
        ").show()\n"
      ],
      "metadata": {
        "colab": {
          "base_uri": "https://localhost:8080/"
        },
        "id": "RRN1KIEnlurk",
        "outputId": "2aedc967-7f7c-4963-8eaa-6237afffe7a9"
      },
      "execution_count": 17,
      "outputs": [
        {
          "output_type": "stream",
          "name": "stdout",
          "text": [
            "+-----------+---------+------------------+------------+--------------+-----------+-----------+-------------+------------------+\n",
            "|  longitude| latitude|housing_median_age| total_rooms|total_bedrooms| population| households|median_income|median_house_value|\n",
            "+-----------+---------+------------------+------------+--------------+-----------+-----------+-------------+------------------+\n",
            "|-115.590000|32.790000|          8.000000| 2183.000000|    307.000000|1000.000000| 287.000000|     6.381400|     159900.000000|\n",
            "|-116.260000|33.650000|          3.000000| 7437.000000|   1222.000000| 574.000000| 302.000000|    10.294800|     382400.000000|\n",
            "|-116.370000|33.690000|          7.000000| 8806.000000|   1542.000000| 858.000000| 448.000000|     7.800500|     318100.000000|\n",
            "|-116.400000|33.780000|          8.000000| 3059.000000|    500.000000| 612.000000| 208.000000|     6.872900|     259200.000000|\n",
            "|-116.440000|33.740000|          5.000000|  846.000000|    249.000000| 117.000000|  67.000000|     7.988500|     403300.000000|\n",
            "|-116.890000|32.670000|          9.000000| 2652.000000|    393.000000|1355.000000| 362.000000|     6.257800|     293100.000000|\n",
            "|-116.900000|32.770000|          8.000000| 3600.000000|    492.000000|1421.000000| 482.000000|     6.260900|     307100.000000|\n",
            "|-116.910000|32.730000|          8.000000| 4630.000000|    624.000000|2048.000000| 575.000000|     6.474500|     300300.000000|\n",
            "|-116.980000|34.050000|          6.000000| 2290.000000|    312.000000| 957.000000| 274.000000|     7.270800|     316700.000000|\n",
            "|-117.010000|32.990000|          8.000000| 3372.000000|    430.000000|1536.000000| 448.000000|     8.428400|     378300.000000|\n",
            "|-117.020000|32.640000|          5.000000|  260.000000|     41.000000| 157.000000|  42.000000|     6.515100|     281700.000000|\n",
            "|-117.040000|32.990000|          6.000000| 9518.000000|   1418.000000|4413.000000|1275.000000|     6.601200|     314900.000000|\n",
            "|-117.040000|32.900000|          6.000000| 6525.000000|    826.000000|3146.000000| 806.000000|     9.285800|     436100.000000|\n",
            "|-117.040000|32.830000|          8.000000| 2205.000000|    348.000000| 777.000000| 341.000000|     6.026600|     177400.000000|\n",
            "|-117.070000|33.070000|          8.000000| 2756.000000|    343.000000|1045.000000| 340.000000|     8.595700|     444100.000000|\n",
            "|-117.070000|32.910000|          5.000000| 2234.000000|    256.000000| 894.000000| 253.000000|    10.335400|     477600.000000|\n",
            "|-117.080000|33.010000|          5.000000| 5659.000000|    931.000000|2565.000000| 902.000000|     6.194900|     238700.000000|\n",
            "|-117.080000|32.930000|          5.000000|14944.000000|   2490.000000|6600.000000|2407.000000|     6.085700|     308300.000000|\n",
            "|-117.080000|32.910000|          9.000000| 1547.000000|    218.000000| 683.000000| 231.000000|     7.560400|     327900.000000|\n",
            "|-117.080000|32.830000|          7.000000|13703.000000|   2352.000000|4446.000000|1856.000000|     6.433500|     260600.000000|\n",
            "+-----------+---------+------------------+------------+--------------+-----------+-----------+-------------+------------------+\n",
            "only showing top 20 rows\n",
            "\n"
          ]
        }
      ]
    },
    {
      "cell_type": "markdown",
      "source": [
        "✅ Correlation between median income and house value:\n",
        "\n"
      ],
      "metadata": {
        "id": "X_btlksumt2g"
      }
    },
    {
      "cell_type": "markdown",
      "source": [
        "# New section"
      ],
      "metadata": {
        "id": "VF4-dBmtqmJS"
      }
    },
    {
      "cell_type": "code",
      "source": [
        "df = df.withColumn(\"median_income\", df[\"median_income\"].cast(\"double\")) \\\n",
        "       .withColumn(\"median_house_value\", df[\"median_house_value\"].cast(\"double\"))\n"
      ],
      "metadata": {
        "id": "EdkqKJkOnNYU"
      },
      "execution_count": 21,
      "outputs": []
    },
    {
      "cell_type": "code",
      "source": [
        "corr = df.stat.corr(\"median_income\", \"median_house_value\")\n",
        "print(f\"Correlation: {corr}\")\n",
        "\n"
      ],
      "metadata": {
        "colab": {
          "base_uri": "https://localhost:8080/"
        },
        "id": "zGtAK3WHmwrJ",
        "outputId": "2284a508-6a7d-4dbd-8c7e-ab231e24f9f7"
      },
      "execution_count": 22,
      "outputs": [
        {
          "output_type": "stream",
          "name": "stdout",
          "text": [
            "Correlation: 0.6918706037806676\n"
          ]
        }
      ]
    },
    {
      "cell_type": "markdown",
      "source": [
        "✅ Register as a temp SQL table:\n",
        "\n"
      ],
      "metadata": {
        "id": "hQspBxUjndKt"
      }
    },
    {
      "cell_type": "code",
      "source": [
        "df.createOrReplaceTempView(\"housing\")\n",
        "\n",
        "spark.sql(\"\"\"\n",
        "  SELECT\n",
        "    ROUND(median_income, 1) as income_bracket,\n",
        "    AVG(median_house_value) as avg_value\n",
        "  FROM housing\n",
        "  GROUP BY income_bracket\n",
        "  ORDER BY income_bracket\n",
        "\"\"\").show()\n"
      ],
      "metadata": {
        "colab": {
          "base_uri": "https://localhost:8080/"
        },
        "id": "yLg-aCl4nkFF",
        "outputId": "f4eebe05-ffbf-403b-9b95-c56615e4aa44"
      },
      "execution_count": 23,
      "outputs": [
        {
          "output_type": "stream",
          "name": "stdout",
          "text": [
            "+--------------+------------------+\n",
            "|income_bracket|         avg_value|\n",
            "+--------------+------------------+\n",
            "|           0.5|144905.55555555556|\n",
            "|           0.6|          111300.0|\n",
            "|           0.7| 158657.2142857143|\n",
            "|           0.8|          137950.0|\n",
            "|           0.9|128138.68181818182|\n",
            "|           1.0|107740.90909090909|\n",
            "|           1.1| 102557.8947368421|\n",
            "|           1.2| 114496.0594059406|\n",
            "|           1.3|          105275.0|\n",
            "|           1.4| 98682.78145695364|\n",
            "|           1.5|108070.85714285714|\n",
            "|           1.6|106120.26293103448|\n",
            "|           1.7|105001.96393442623|\n",
            "|           1.8|108815.83397683398|\n",
            "|           1.9|115284.70068027212|\n",
            "|           2.0|122114.09668508287|\n",
            "|           2.1|126340.62215909091|\n",
            "|           2.2|126268.87871853547|\n",
            "|           2.3| 135354.3523573201|\n",
            "|           2.4| 136875.4770889488|\n",
            "+--------------+------------------+\n",
            "only showing top 20 rows\n",
            "\n"
          ]
        }
      ]
    }
  ]
}